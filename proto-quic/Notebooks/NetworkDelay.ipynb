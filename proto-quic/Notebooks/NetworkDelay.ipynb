{
 "cells": [
  {
   "cell_type": "code",
   "execution_count": null,
   "metadata": {},
   "outputs": [],
   "source": [
    "from scapy.all import *\n",
    "import numpy as np"
   ]
  },
  {
   "cell_type": "code",
   "execution_count": null,
   "metadata": {
    "collapsed": true
   },
   "outputs": [],
   "source": [
    "def ReadCapture(capture_name, timestamps_filename):\n",
    "    Relevant_Packets = []\n",
    "    with PcapReader(capture_name) as pcap_reader:\n",
    "        for pkt in pcap_reader:\n",
    "            if IP in pkt:\n",
    "                ip_src = pkt[IP].src\n",
    "                if (ip_src == \"10.10.0.2\" and pkt.haslayer(UDP) and pkt[UDP].len > 140 and pkt[UDP].len < 1350\n",
    "                    and (not pkt.haslayer(ICMP))):\n",
    "                    Relevant_Packets.append(pkt)\n",
    "                    with open(timestamps_filename, \"a\") as file:\n",
    "                        file.write(str(pkt.time) + \"\\n\")\n",
    "    return Relevant_Packets"
   ]
  },
  {
   "cell_type": "code",
   "execution_count": null,
   "metadata": {
    "collapsed": true
   },
   "outputs": [],
   "source": [
    "def Packet_Timestamp_Mapping_Server(timestamps_filename, packets_filename):\n",
    "    timestamps = np.loadtxt(timestamps_filename)\n",
    "    timestamps = timestamps.tolist()\n",
    "    with open(packets_filename, \"r\") as file:\n",
    "        packets = file.readlines()\n",
    "    Packet_Timestamp = {}\n",
    "    for i in range(len(packets)):\n",
    "        pkt_id = int(packets[i].split(\":\")[0])\n",
    "        Packet_Timestamp[pkt_id] = timestamps[i]\n",
    "    return Packet_Timestamp"
   ]
  },
  {
   "cell_type": "code",
   "execution_count": null,
   "metadata": {
    "collapsed": true
   },
   "outputs": [],
   "source": [
    "def Packet_Timestamp_Mapping_Client(timestamps_filename):\n",
    "    timestamps = np.loadtxt(timestamps_filename)\n",
    "    timestamps = timestamps.tolist()\n",
    "    Packet_Timestamp = {}\n",
    "    \n",
    "    Packet_Timestamp[1] = timestamps[0]\n",
    "    last_valid_timestamp = timestamps[0]\n",
    "    last_entry = 1\n",
    "    i = 1\n",
    "\n",
    "    while(i < len(timestamps)):\n",
    "        expected_timestamp = last_valid_timestamp + 0.1\n",
    "        min_diff = 100000\n",
    "        for j in range(i, len(timestamps)):\n",
    "            new_diff = np.abs(expected_timestamp - timestamps[j])\n",
    "            if (new_diff < min_diff and j < len(timestamps) - 1):\n",
    "                min_diff = new_diff\n",
    "\n",
    "            elif new_diff >= min_diff:\n",
    "                i = j\n",
    "                last_entry += 1\n",
    "                last_valid_timestamp = timestamps[j-1]\n",
    "                Packet_Timestamp[last_entry] = last_valid_timestamp\n",
    "                break\n",
    "            else:\n",
    "                last_entry +=1\n",
    "                Packet_Timestamp[last_entry] = timestamps[j]\n",
    "                print(\"Last entry: \" + str(last_entry) + \", \" + str(Packet_Timestamp[last_entry]))\n",
    "                break\n",
    "        if (last_entry == 100000):\n",
    "            break\n",
    "    return Packet_Timestamp"
   ]
  },
  {
   "cell_type": "code",
   "execution_count": null,
   "metadata": {
    "collapsed": true
   },
   "outputs": [],
   "source": [
    "def main(loss, capture_path):\n",
    "    capture_name_client =  capture_path + \"captured-packets_client.pcap\"\n",
    "    capture_name_server = capture_path + \"captured-packets_server.pcap\"\n",
    "    Relevant_Packets_client = ReadCapture(capture_name_client, \"NetworkDelay_client_\" + str(loss) + \".txt\")\n",
    "    Relevant_Packets_server = ReadCapture(capture_name_server, \"NetworkDelay_server_\" + str(loss) + \".txt\")"
   ]
  },
  {
   "cell_type": "code",
   "execution_count": null,
   "metadata": {
    "collapsed": true
   },
   "outputs": [],
   "source": [
    "def GetNetworkDelay(Packet_Timestamp_client, Packet_Timestamp_server):\n",
    "    Delays = []\n",
    "    for pkt_id in Packet_Timestamp_server.keys():\n",
    "        delay = Packet_Timestamp_server[pkt_id] - Packet_Timestamp_client[pkt_id]\n",
    "        if (delay < 0):\n",
    "            print(delay, pkt_id)\n",
    "            break\n",
    "        Delays.append(delay)\n",
    "    Delays = np.array(Delays)\n",
    "    print(\"MEAN: \" + str(np.mean(Delays)*1000))\n",
    "    print(\"MAX: \" + str(np.max(Delays)*1000))\n",
    "    print(\"MIN: \" + str(np.min(Delays)*1000))\n",
    "    print(\"MEDIAN: \" + str(np.median(Delays)*1000))"
   ]
  },
  {
   "cell_type": "code",
   "execution_count": null,
   "metadata": {},
   "outputs": [],
   "source": [
    "loss=5\n",
    "Network_Delay_path_server = \"NetworkDelay/Modified/Improved/Loss=\" + str(loss) +\"/NetworkDelay_server.txt\"\n",
    "Packet_Timestamp_server = Packet_Timestamp_Mapping_Server(Network_Delay_path_server, \"Improved/Modified/Loss=5/delay_client_server.txt\")\n",
    "Network_Delay_path_client = \"NetworkDelay/Modified/Improved/Loss=\" + str(loss) +\"/NetworkDelay_client.txt\"\n",
    "Packet_Timestamp_client = Packet_Timestamp_Mapping_Client(Network_Delay_path_client)\n",
    "GetNetworkDelay(Packet_Timestamp_client, Packet_Timestamp_server)"
   ]
  },
  {
   "cell_type": "code",
   "execution_count": null,
   "metadata": {},
   "outputs": [],
   "source": [
    "loss=20\n",
    "Network_Delay_path_server = \"NetworkDelay/Default/Improved/Loss=\" + str(loss) +\"_2/NetworkDelay_server.txt\"\n",
    "Packet_Timestamp_server = Packet_Timestamp_Mapping_Server(Network_Delay_path_server, \"Improved/Default/Loss=20_2/delay_client_server.txt\")\n",
    "Network_Delay_path_client = \"NetworkDelay/Default/Improved/Loss=\" + str(loss) +\"_2/NetworkDelay_client.txt\"\n",
    "Packet_Timestamp_client = Packet_Timestamp_Mapping_Client(Network_Delay_path_client)\n",
    "GetNetworkDelay(Packet_Timestamp_client, Packet_Timestamp_server)"
   ]
  },
  {
   "cell_type": "code",
   "execution_count": null,
   "metadata": {},
   "outputs": [],
   "source": [
    "loss=4\n",
    "Network_Delay_path_server = \"NetworkDelay/Modified/Improved/Loss=\" + str(loss) +\"/NetworkDelay_server.txt\"\n",
    "Packet_Timestamp_server = Packet_Timestamp_Mapping_Server(Network_Delay_path_server, \"Improved/Modified/Loss=4/delay_client_server.txt\")\n",
    "Network_Delay_path_client = \"NetworkDelay/Modified/Improved/Loss=\" + str(loss) +\"/NetworkDelay_client.txt\"\n",
    "Packet_Timestamp_client = Packet_Timestamp_Mapping_Client(Network_Delay_path_client)\n",
    "GetNetworkDelay(Packet_Timestamp_client, Packet_Timestamp_server)"
   ]
  }
 ],
 "metadata": {
  "kernelspec": {
   "display_name": "Python 3",
   "language": "python",
   "name": "python3"
  },
  "language_info": {
   "codemirror_mode": {
    "name": "ipython",
    "version": 3
   },
   "file_extension": ".py",
   "mimetype": "text/x-python",
   "name": "python",
   "nbconvert_exporter": "python",
   "pygments_lexer": "ipython3",
   "version": "3.6.1"
  }
 },
 "nbformat": 4,
 "nbformat_minor": 2
}
