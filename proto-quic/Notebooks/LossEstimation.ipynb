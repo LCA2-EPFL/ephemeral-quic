{
 "cells": [
  {
   "cell_type": "code",
   "execution_count": null,
   "metadata": {},
   "outputs": [],
   "source": [
    "import collections\n",
    "import numpy as np\n",
    "import matplotlib.pyplot as plt\n",
    "import statsmodels.api as sm\n",
    "import pylab"
   ]
  },
  {
   "cell_type": "code",
   "execution_count": null,
   "metadata": {
    "collapsed": true
   },
   "outputs": [],
   "source": [
    "Numb_packets = 100000\n",
    "Loss_Network = [0.1, 1, 2.5, 5, 10, 20]\n",
    "\n",
    "#Max Delay\n",
    "Delays = {}\n",
    "Delays[0.1] = 8500\n",
    "Delays[1] = 9000\n",
    "Delays[2.5] = 9000\n",
    "Delays[5] = 400000\n",
    "Delays[10] = 500000\n",
    "Delays[20] = 700000\n",
    "\n",
    "#Number of Client Transmissions - Modified QUIC (Limited Retransmissions)\n",
    "Client_Transmissions_Modified = {}\n",
    "Client_Transmissions_Modified[0.1] = 100000\n",
    "Client_Transmissions_Modified[1] = 100000\n",
    "Client_Transmissions_Modified[2.5] = 100000\n",
    "Client_Transmissions_Modified[5] = 100000\n",
    "Client_Transmissions_Modified[10] = 100000\n",
    "Client_Transmissions_Modified[20] = 100000\n",
    "\n",
    "#Number of Client Transmissions - Default QUIC\n",
    "Client_Transmissions = {}\n",
    "Client_Transmissions[0.1] = 100001\n",
    "Client_Transmissions[1] = 101207\n",
    "Client_Transmissions[2.5] = 102073\n",
    "Client_Transmissions[5] = 105103\n",
    "Client_Transmissions[10] = 111049\n",
    "Client_Transmissions[20] = 124758\n",
    "\n",
    "#Number of Client Transmissions - Improved Default QUIC\n",
    "Client_Transmissions_Improved = {}\n",
    "Client_Transmissions_Improved[0.1] = 100000\n",
    "Client_Transmissions_Improved[1] = 100000\n",
    "Client_Transmissions_Improved[2.5] = 100000\n",
    "Client_Transmissions_Improved[5] = 100000\n",
    "Client_Transmissions_Improved[10] = 100000\n",
    "Client_Transmissions_Improved[20] = 124984\n",
    "\n",
    "#Number of Client Transmissions - Improved Modified QUIC\n",
    "Client_Transmissions_Improved_Modified = {}\n",
    "Client_Transmissions_Improved_Modified[0.1] = 100000\n",
    "Client_Transmissions_Improved_Modified[1] = 100000\n",
    "Client_Transmissions_Improved_Modified[2.5] = 100000\n",
    "Client_Transmissions_Improved_Modified[5] = 100254\n",
    "Client_Transmissions_Improved_Modified[10] = 100000\n",
    "Client_Transmissions_Improved_Modified[20] = 124984"
   ]
  },
  {
   "cell_type": "code",
   "execution_count": null,
   "metadata": {
    "collapsed": true
   },
   "outputs": [],
   "source": [
    "def GetDelayValues(file_name):\n",
    "    Delay_Values = {}\n",
    "    with open(file_name, \"r\") as file:\n",
    "        line = file.readline()\n",
    "        while (line != \"\"):\n",
    "            (packet_id, delay_value) = line.split(\": \")\n",
    "            Delay_Values[int(packet_id)] = int(delay_value[:-1])\n",
    "            line = file.readline()\n",
    "    return Delay_Values"
   ]
  },
  {
   "cell_type": "code",
   "execution_count": null,
   "metadata": {
    "collapsed": true
   },
   "outputs": [],
   "source": [
    "def GetOutofOrderPackets(file_name):\n",
    "    OutofOrderPackets = []\n",
    "    with open(file_name, \"r\") as file:\n",
    "        line = file.readline()\n",
    "        while (line != \"\"):\n",
    "            packet_id = line.split(\"\\n\")[0]\n",
    "            OutofOrderPackets.append(packet_id)\n",
    "            line = file.readline()\n",
    "    return OutofOrderPackets"
   ]
  },
  {
   "cell_type": "code",
   "execution_count": null,
   "metadata": {
    "collapsed": true
   },
   "outputs": [],
   "source": [
    "def GetPacketStats(Delay_Values):\n",
    "    Bad_Packets = 0\n",
    "    Good_Packets = 0\n",
    "    sum_delay_good = 0\n",
    "    sum_delay_aggregate = 0\n",
    "    max_delay = 0\n",
    "    for packet_id in Delay_Values.keys():\n",
    "        delay = Delay_Values[packet_id]\n",
    "        sum_delay_aggregate += delay\n",
    "        if (delay > max_delay):\n",
    "            max_delay = delay\n",
    "        if (delay >= 100000):\n",
    "            Bad_Packets += 1\n",
    "        else:\n",
    "            Good_Packets += 1\n",
    "            sum_delay_good += delay\n",
    "    return (Bad_Packets, Good_Packets, sum_delay_good, sum_delay_aggregate, max_delay)"
   ]
  },
  {
   "cell_type": "code",
   "execution_count": null,
   "metadata": {
    "collapsed": true
   },
   "outputs": [],
   "source": [
    "def cdf_delay(data_delay, max_delay, loss):\n",
    "    ecdf = sm.distributions.ECDF(data_delay)\n",
    "    delay = np.linspace(min(data_delay), Delays[loss])\n",
    "    y_delay = ecdf(delay)\n",
    "    plt.plot(delay, y_delay, color='b', label='One-way Delay')\n",
    "    plt.grid(True)\n",
    "    plt.title('Cumulative Distribution Function')\n",
    "    pylab.legend(loc='lower right')\n",
    "    plt.ylabel(\"Cumulative Fraction of Packets\")\n",
    "    plt.xlabel(\"Delay Value (ms)\")\n",
    "    plt.show()\n",
    "    return delay, y_delay\n",
    "\n",
    "def Get95thPercentile(delay, y_delay):\n",
    "    for i in range(0, len(y_delay)):\n",
    "        if (y_delay[i] >= 0.95):\n",
    "            return delay[i]"
   ]
  },
  {
   "cell_type": "code",
   "execution_count": null,
   "metadata": {
    "collapsed": true
   },
   "outputs": [],
   "source": [
    "def GetData_Total(Loss_Network, path, Client_Transmissions):\n",
    "    for loss in Loss_Network:\n",
    "        print(\"Network loss = \" + str(loss) + \"%\")\n",
    "        file_name_delay = path + \"Loss=\" + str(loss) + \"/delay_client_server.txt\"\n",
    "        file_name_order = path + \"Loss=\" + str(loss) + \"/Old_Messages.txt\"\n",
    "        Delay_Values = GetDelayValues(file_name_delay)\n",
    "        print(\"We received \" + str(len(Delay_Values)) + \" packets\")\n",
    "        (Bad_Packets, Good_Packets, sum_delay_good, sum_delay_aggregate, max_delay) = GetPacketStats(Delay_Values)\n",
    "        print(\"Bad packets:\" + str(Bad_Packets) + \" packets\")\n",
    "        print(\"Fraction of good packets (out of the received packets):\" + str(Good_Packets/len(Delay_Values) * 100) + \"%\")\n",
    "        print(\"Maximum delay:\" + str(max_delay) + \" microseconds\")\n",
    "        print(\"Good average delay:\" + str(sum_delay_good/(len(Delay_Values) - Bad_Packets)) + \" microseconds\")\n",
    "        print(\"Aggregate average delay:\" + str(sum_delay_aggregate/len(Delay_Values)) + \" microseconds\")\n",
    "        \n",
    "        Loss_rate = Bad_Packets/Numb_packets*100\n",
    "        print(\"Loss rate:\" + str(Loss_rate) + \"%\")\n",
    "        try:\n",
    "            OutofOrderPackets = GetOutofOrderPackets(file_name_order)\n",
    "            print(\"Number of out of order packets:\" + str(len(OutofOrderPackets)) + \" packets\")\n",
    "        except:\n",
    "            print(\"No out of order packets!\")\n",
    "        Retransmissions = Client_Transmissions[loss] - len(Delay_Values)\n",
    "        print(\"We record a total of \" + str(Retransmissions) + \" retransmissions from the client, at loss = \" + str(loss) + \"%.\")\n",
    "        \n",
    "        data_delay = np.loadtxt(file_name_delay, usecols=(1))\n",
    "        #data_delay = data_delay/1000\n",
    "        (delay, y_delay) = cdf_delay(data_delay, max_delay, loss)\n",
    "        delay_95 = Get95thPercentile(delay, y_delay)\n",
    "        print(\"95'th percentile:\" + str(delay_95) + \" microseconds\\n\\n\")\n",
    "        \n",
    "    return"
   ]
  },
  {
   "cell_type": "code",
   "execution_count": null,
   "metadata": {
    "collapsed": true
   },
   "outputs": [],
   "source": [
    "def GetData_Modified(Loss_Network, path, Client_Transmissions_Limited):\n",
    "    for loss in Loss_Network:\n",
    "        print(\"Network loss = \" + str(loss) + \"%\")\n",
    "        file_name_delay = path + \"Loss=\" + str(loss) + \"/delay_client_server.txt\"\n",
    "        file_name_order = path + \"Loss=\" + str(loss) + \"/Old_Messages.txt\"\n",
    "        Delay_Values = GetDelayValues(file_name_delay)\n",
    "        print(\"We received \" + str(len(Delay_Values)) + \" packets\")\n",
    "        (Bad_Packets, Good_Packets, sum_delay_good, sum_delay_aggregate, max_delay) = GetPacketStats(Delay_Values)\n",
    "        print(\"Bad packets:\" + str(Bad_Packets) + \" packets\")\n",
    "        print(\"Fraction of good packets (out of the received packets):\" + str(Good_Packets/len(Delay_Values) * 100) + \"%\")\n",
    "        print(\"Maximum delay:\" + str(max_delay) + \" microseconds\")\n",
    "        print(\"Good average delay:\" + str(sum_delay_good/(len(Delay_Values) - Bad_Packets)) + \" microseconds\")\n",
    "        print(\"Aggregate average delay:\" + str(sum_delay_aggregate/len(Delay_Values)) + \" microseconds\")\n",
    "        \n",
    "        Lost_Packets = Numb_packets - len(Delay_Values)\n",
    "        print(\"We record a total of \" + str(Lost_Packets) + \" lost packets, at loss = \" + str(loss) + \"%.\")\n",
    "        \n",
    "        Loss_rate = (Bad_Packets + Lost_Packets)/Numb_packets*100\n",
    "        print(\"Loss rate:\" + str(Loss_rate) + \"%\")\n",
    "        try:\n",
    "            OutofOrderPackets = GetOutofOrderPackets(file_name_order)\n",
    "            print(\"Number of out of order packets:\" + str(len(OutofOrderPackets)) + \" packets\")\n",
    "        except:\n",
    "            print(\"No out of order packets!\")\n",
    "        Retransmissions = Client_Transmissions_Limited[loss] - Numb_packets\n",
    "        print(\"We record a total of \" + str(Retransmissions) + \" retransmissions from the client, at loss = \" + str(loss) + \"%.\")\n",
    "        \n",
    "        data_delay = np.loadtxt(file_name_delay, usecols=(1))\n",
    "        (delay, y_delay) = cdf_delay(data_delay, max_delay, loss)\n",
    "        delay_95 = Get95thPercentile(delay, y_delay)\n",
    "        print(\"95'th percentile:\" + str(delay_95) + \" microseconds\\n\\n\")\n",
    "        \n",
    "    return"
   ]
  },
  {
   "cell_type": "code",
   "execution_count": null,
   "metadata": {},
   "outputs": [],
   "source": [
    "path = \"/Users/jstephan/Desktop/Autumn_Semester_2/Semester_Project/Simulations/\"\n",
    "GetData_Total(Loss_Network, path + \"Total/\", Client_Transmissions)\n",
    "Loss_Network_test = [5]\n",
    "GetData_Modified(Loss_Network_test, path + \"Improved/Modified/\", Client_Transmissions_Improved_Modified)"
   ]
  }
 ],
 "metadata": {
  "kernelspec": {
   "display_name": "Python 3",
   "language": "python",
   "name": "python3"
  },
  "language_info": {
   "codemirror_mode": {
    "name": "ipython",
    "version": 3
   },
   "file_extension": ".py",
   "mimetype": "text/x-python",
   "name": "python",
   "nbconvert_exporter": "python",
   "pygments_lexer": "ipython3",
   "version": "3.6.1"
  }
 },
 "nbformat": 4,
 "nbformat_minor": 2
}
