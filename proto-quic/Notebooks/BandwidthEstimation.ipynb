{
 "cells": [
  {
   "cell_type": "code",
   "execution_count": null,
   "metadata": {
    "collapsed": true
   },
   "outputs": [],
   "source": [
    "%load_ext autoreload\n",
    "%autoreload 2"
   ]
  },
  {
   "cell_type": "code",
   "execution_count": null,
   "metadata": {},
   "outputs": [],
   "source": [
    "from scapy.all import *\n",
    "import numpy as np\n",
    "import matplotlib.pyplot as plt\n",
    "import statsmodels.api as sm\n",
    "import pylab"
   ]
  },
  {
   "cell_type": "code",
   "execution_count": null,
   "metadata": {
    "collapsed": true
   },
   "outputs": [],
   "source": [
    "Loss_Network = [0.1, 1, 2.5, 5, 10, 20]"
   ]
  },
  {
   "cell_type": "code",
   "execution_count": null,
   "metadata": {
    "collapsed": true
   },
   "outputs": [],
   "source": [
    "def ReadCapture(capture_name):\n",
    "    Relevant_Packets = []\n",
    "    with PcapReader(capture_name) as pcap_reader:\n",
    "        for pkt in pcap_reader:\n",
    "            if IP in pkt:\n",
    "                ip_src = pkt[IP].src\n",
    "                if (ip_src == \"10.10.0.2\"):\n",
    "                    if pkt.haslayer(UDP):\n",
    "                        Relevant_Packets.append(pkt)\n",
    "    return Relevant_Packets"
   ]
  },
  {
   "cell_type": "code",
   "execution_count": null,
   "metadata": {
    "collapsed": true
   },
   "outputs": [],
   "source": [
    "def GetAllBandwidths(Relevant_Packets, loss, isClient):\n",
    "    if (isClient == True):\n",
    "        bandwidth_filename = \"bandwidth_\" + str(loss) + \"_client.txt\"\n",
    "    else:\n",
    "        bandwidth_filename = \"bandwidth_\" + str(loss) + \"_server.txt\"        \n",
    "\n",
    "    for i in range(0, len(Relevant_Packets)):\n",
    "        Bandwidth_Packets = []\n",
    "        pkt_1 = Relevant_Packets[i]\n",
    "        time_1 = pkt_1.time\n",
    "        Bandwidth_Packets.append(pkt_1)\n",
    "        for j in range(i+1, len(Relevant_Packets)):\n",
    "            pkt_2 = Relevant_Packets[j]\n",
    "            time_2 = pkt_2.time\n",
    "            if (time_2 - time_1 > 1.0):\n",
    "                break\n",
    "            else:\n",
    "                Bandwidth_Packets.append(pkt_2)\n",
    "        if (len(Bandwidth_Packets) > 1):\n",
    "            bandwidth = CalculateBandwidth(Bandwidth_Packets, bandwidth_filename)\n",
    "        else:\n",
    "            print(\"No bandwidth was recorded at time \" + str(time_1))\n",
    "    return"
   ]
  },
  {
   "cell_type": "code",
   "execution_count": null,
   "metadata": {
    "collapsed": true
   },
   "outputs": [],
   "source": [
    "def CalculateBandwidth(Bandwidth_Packets, bandwidth_filename):\n",
    "    time_1 = Bandwidth_Packets[0].time\n",
    "    time_2 = Bandwidth_Packets[len(Bandwidth_Packets) - 1].time\n",
    "    packet_sizes = 0\n",
    "    #Add up the sizes of all packets occuring in a range of at most 1 second after the first one\n",
    "    for packet in Bandwidth_Packets:\n",
    "        packet_sizes += packet[UDP].len\n",
    "    bandwidth = (packet_sizes/(time_2 - time_1)) #in bytes/sec\n",
    "    with open(bandwidth_filename, \"a\") as file:\n",
    "        file.write(str(bandwidth) + \"\\n\")\n",
    "    return bandwidth"
   ]
  },
  {
   "cell_type": "code",
   "execution_count": null,
   "metadata": {
    "collapsed": true
   },
   "outputs": [],
   "source": [
    "def cdf_bandwidth(data_bandwidth):#, max_delay):\n",
    "    ecdf = sm.distributions.ECDF(data_bandwidth)\n",
    "    bandwidth = np.linspace(min(data_bandwidth), 3500)#max_delay)\n",
    "    y_bandwidth = ecdf(bandwidth)\n",
    "    plt.plot(bandwidth, y_bandwidth, color='b', label='Bandwidth')\n",
    "    plt.grid(True)\n",
    "    plt.title('Cumulative Distribution Function')\n",
    "    pylab.legend(loc='lower right')\n",
    "    plt.ylabel(\"Cumulative Fraction of Packets\")\n",
    "    plt.xlabel(\"Bandwidth Value\")\n",
    "    plt.show()\n",
    "    return bandwidth, y_bandwidth\n",
    "\n",
    "def Get95thPercentile(bandwidth, y_bandwidth):\n",
    "    for i in range(0, len(y_bandwidth)):\n",
    "        if (y_bandwidth[i] >= 0.95):\n",
    "            return bandwidth[i]"
   ]
  },
  {
   "cell_type": "code",
   "execution_count": null,
   "metadata": {
    "collapsed": true
   },
   "outputs": [],
   "source": [
    "def main():\n",
    "    for loss in Loss_Network:\n",
    "        \"\"\"capture_name_client = \"LimitedRetransmissions/Loss=\" + str(loss) + \"/captured-packets_client.pcap\"\n",
    "        capture_name_server = \"LimitedRetransmissions/Loss=\" + str(loss) + \"/captured-packets_server.pcap\"\n",
    "        Relevant_Packets_client = ReadCapture(capture_name_client)\n",
    "        GetAllBandwidths(Relevant_Packets_client, loss, True)\n",
    "        Relevant_Packets_server = ReadCapture(capture_name_server)\n",
    "        GetAllBandwidths(Relevant_Packets_server, loss, False)\"\"\"\n",
    "        \n",
    "        print(\"Loss rate:\" + str(loss) + \"%\")\n",
    "        \n",
    "        bandwidth_client_txt = \"Bandwidths/bandwidth_\" + str(loss) + \"_client.txt\"\n",
    "        data_bandwidth_loss_client = np.loadtxt(bandwidth_client_txt)\n",
    "        print(\"Client\")\n",
    "        print(\"Mean: \" + str(np.mean(data_bandwidth_loss_client)))\n",
    "        print(\"Median: \" + str(np.median(data_bandwidth_loss_client)))\n",
    "        (bandwidth_client, y_bandwidth_client) = cdf_bandwidth(data_bandwidth_loss_client)\n",
    "        bandwidth_95_client = Get95thPercentile(bandwidth_client, y_bandwidth_client) \n",
    "        print(\"95% percentile: \" + str(bandwidth_95_client) + \"\\n\\n\")\n",
    "\n",
    "        bandwidth_server_txt = \"Bandwidths/bandwidth_\" + str(loss) + \"_server.txt\"\n",
    "        data_bandwidth_loss_server = np.loadtxt(bandwidth_server_txt)\n",
    "        print(\"Server\")\n",
    "        print(\"Mean: \" + str(np.mean(data_bandwidth_loss_server)))\n",
    "        print(\"Median: \" + str(np.median(data_bandwidth_loss_server)))\n",
    "        (bandwidth_server, y_bandwidth_server) = cdf_bandwidth(data_bandwidth_loss_server)\n",
    "        bandwidth_95_server = Get95thPercentile(bandwidth_server, y_bandwidth_server) \n",
    "        print(\"95% percentile: \" + str(bandwidth_95_server) + \"\\n\\n\")\n",
    "    return"
   ]
  },
  {
   "cell_type": "code",
   "execution_count": null,
   "metadata": {},
   "outputs": [],
   "source": [
    "if __name__ == \"__main__\":\n",
    "    main()"
   ]
  }
 ],
 "metadata": {
  "kernelspec": {
   "display_name": "Python 3",
   "language": "python",
   "name": "python3"
  },
  "language_info": {
   "codemirror_mode": {
    "name": "ipython",
    "version": 3
   },
   "file_extension": ".py",
   "mimetype": "text/x-python",
   "name": "python",
   "nbconvert_exporter": "python",
   "pygments_lexer": "ipython3",
   "version": "3.6.1"
  }
 },
 "nbformat": 4,
 "nbformat_minor": 2
}
